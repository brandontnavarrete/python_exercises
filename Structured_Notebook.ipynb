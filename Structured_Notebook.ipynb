{
 "cells": [
  {
   "cell_type": "code",
   "execution_count": 1,
   "id": "d672ce58",
   "metadata": {},
   "outputs": [
    {
     "name": "stdout",
     "output_type": "stream",
     "text": [
      "nerd!\n"
     ]
    }
   ],
   "source": [
    "has_glasses = True\n",
    "\n",
    "if has_glasses:\n",
    "    print(\"nerd!\")\n",
    "    "
   ]
  },
  {
   "cell_type": "code",
   "execution_count": 3,
   "id": "04138557",
   "metadata": {},
   "outputs": [
    {
     "name": "stdout",
     "output_type": "stream",
     "text": [
      "nice face\n"
     ]
    }
   ],
   "source": [
    "has_glasses = False\n",
    "\n",
    "#true\n",
    "if has_glasses:\n",
    "    print(\"nerd!\")\n",
    "else:\n",
    "    print(\"nice face\")\n",
    "    \n",
    "    "
   ]
  },
  {
   "cell_type": "code",
   "execution_count": 8,
   "id": "be6a127f",
   "metadata": {},
   "outputs": [
    {
     "name": "stdout",
     "output_type": "stream",
     "text": [
      "believable\n"
     ]
    }
   ],
   "source": [
    "lunch = 12\n",
    "\n",
    "if lunch < 10:\n",
    "    print(\"not in this town!\")\n",
    "elif lunch < 20:\n",
    "    print (\"believable\")\n",
    "else:\n",
    "    print('are you sure it wasn\\'t dinner?')\n",
    "    \n",
    "    \n"
   ]
  },
  {
   "cell_type": "code",
   "execution_count": 12,
   "id": "2c212cd6",
   "metadata": {},
   "outputs": [],
   "source": [
    "#list for glasses\n",
    "eyewear =['glasses','sunglasses','contacts', None]"
   ]
  },
  {
   "cell_type": "code",
   "execution_count": 13,
   "id": "5663996f",
   "metadata": {},
   "outputs": [
    {
     "data": {
      "text/plain": [
       "['glasses', 'sunglasses', 'contacts', None]"
      ]
     },
     "execution_count": 13,
     "metadata": {},
     "output_type": "execute_result"
    }
   ],
   "source": [
    "eyewear"
   ]
  },
  {
   "cell_type": "markdown",
   "id": "f93e01a2",
   "metadata": {},
   "source": [
    "# list and for loop"
   ]
  },
  {
   "cell_type": "code",
   "execution_count": 15,
   "id": "e26f4d48",
   "metadata": {},
   "outputs": [
    {
     "name": "stdout",
     "output_type": "stream",
     "text": [
      "you need to were your glasses.\n",
      "you need to were your sunglasses.\n",
      "you need to were your contacts.\n",
      "you need to were your None.\n"
     ]
    }
   ],
   "source": [
    "for item in eyewear:\n",
    "    print (f\"you need to were your {item}.\")"
   ]
  },
  {
   "cell_type": "code",
   "execution_count": 27,
   "id": "72957546",
   "metadata": {},
   "outputs": [
    {
     "name": "stdout",
     "output_type": "stream",
     "text": [
      "you need to were your glasses.\n",
      "you need to were your sunglasses.\n",
      "you need to were your contacts.\n",
      "nothing\n"
     ]
    }
   ],
   "source": [
    "\n",
    "eyewear =['glasses','sunglasses','contacts', None]\n",
    "\n",
    "for item in eyewear:\n",
    "    if item is None:\n",
    "        print (\"nothing\")\n",
    "    else:\n",
    "        print (f\"you need to were your {item}.\")\n"
   ]
  },
  {
   "cell_type": "markdown",
   "id": "b9239312",
   "metadata": {},
   "source": [
    "# while loop"
   ]
  },
  {
   "cell_type": "code",
   "execution_count": 31,
   "id": "515b243d",
   "metadata": {},
   "outputs": [
    {
     "name": "stdout",
     "output_type": "stream",
     "text": [
      "safe\n",
      "safe\n",
      "safe\n",
      "safe\n"
     ]
    }
   ],
   "source": [
    "i = 3\n",
    "\n",
    "while i < 7:\n",
    "    print(\"safe\")\n",
    "    i += 1\n",
    "\n"
   ]
  },
  {
   "cell_type": "code",
   "execution_count": 35,
   "id": "aec1972c",
   "metadata": {},
   "outputs": [
    {
     "name": "stdout",
     "output_type": "stream",
     "text": [
      "dont count 3\n"
     ]
    }
   ],
   "source": [
    "odd_num_count = 0\n",
    "\n",
    "for i in range (10):\n",
    "    \n",
    "    if i % 2 == 1:\n",
    "        \n",
    "        if i == 3:\n",
    "            \n",
    "            print('dont count 3')\n",
    "            \n",
    "           \n",
    "            \n",
    "        \n",
    "        odd_num_count += 1\n",
    "        \n",
    "\n"
   ]
  },
  {
   "cell_type": "code",
   "execution_count": null,
   "id": "52583a79",
   "metadata": {},
   "outputs": [],
   "source": []
  }
 ],
 "metadata": {
  "kernelspec": {
   "display_name": "Python 3 (ipykernel)",
   "language": "python",
   "name": "python3"
  },
  "language_info": {
   "codemirror_mode": {
    "name": "ipython",
    "version": 3
   },
   "file_extension": ".py",
   "mimetype": "text/x-python",
   "name": "python",
   "nbconvert_exporter": "python",
   "pygments_lexer": "ipython3",
   "version": "3.9.13"
  }
 },
 "nbformat": 4,
 "nbformat_minor": 5
}
