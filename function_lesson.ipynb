{
 "cells": [
  {
   "cell_type": "code",
   "execution_count": 7,
   "id": "a6be06e3",
   "metadata": {},
   "outputs": [],
   "source": [
    "num_ls = [3,7,6,85,6,4,6]\n"
   ]
  },
  {
   "cell_type": "code",
   "execution_count": 3,
   "id": "18aa036e",
   "metadata": {},
   "outputs": [
    {
     "data": {
      "text/plain": [
       "85"
      ]
     },
     "execution_count": 3,
     "metadata": {},
     "output_type": "execute_result"
    }
   ],
   "source": [
    "max(num_ls)"
   ]
  },
  {
   "cell_type": "markdown",
   "id": "bd534a7e",
   "metadata": {},
   "source": [
    "#tuples\n"
   ]
  },
  {
   "cell_type": "code",
   "execution_count": 12,
   "id": "298fa704",
   "metadata": {},
   "outputs": [],
   "source": [
    "def cb_mx(my_list):\n",
    "        return max(my_list) ** 3, 'cube'\n",
    "    "
   ]
  },
  {
   "cell_type": "code",
   "execution_count": 9,
   "id": "c21bf216",
   "metadata": {},
   "outputs": [
    {
     "data": {
      "text/plain": [
       "7225"
      ]
     },
     "execution_count": 9,
     "metadata": {},
     "output_type": "execute_result"
    }
   ],
   "source": [
    "my_num = sq_mx(num_ls)\n",
    "my_num"
   ]
  },
  {
   "cell_type": "code",
   "execution_count": 14,
   "id": "74fd4bc7",
   "metadata": {},
   "outputs": [],
   "source": [
    "my_output = cb_mx(num_ls)"
   ]
  },
  {
   "cell_type": "code",
   "execution_count": 15,
   "id": "dc7f3e65",
   "metadata": {},
   "outputs": [
    {
     "data": {
      "text/plain": [
       "(614125, 'cube')"
      ]
     },
     "execution_count": 15,
     "metadata": {},
     "output_type": "execute_result"
    }
   ],
   "source": [
    "my_output\n"
   ]
  },
  {
   "cell_type": "markdown",
   "id": "d02debf1",
   "metadata": {},
   "source": [
    "# positional args\n"
   ]
  },
  {
   "cell_type": "code",
   "execution_count": 16,
   "id": "85cbc50b",
   "metadata": {},
   "outputs": [],
   "source": [
    "number,word = cb_mx(num_ls)"
   ]
  },
  {
   "cell_type": "code",
   "execution_count": 17,
   "id": "b507f645",
   "metadata": {},
   "outputs": [
    {
     "data": {
      "text/plain": [
       "614125"
      ]
     },
     "execution_count": 17,
     "metadata": {},
     "output_type": "execute_result"
    }
   ],
   "source": [
    "number\n"
   ]
  },
  {
   "cell_type": "code",
   "execution_count": 18,
   "id": "dce9bf0f",
   "metadata": {},
   "outputs": [
    {
     "data": {
      "text/plain": [
       "'cube'"
      ]
     },
     "execution_count": 18,
     "metadata": {},
     "output_type": "execute_result"
    }
   ],
   "source": [
    "word"
   ]
  },
  {
   "cell_type": "markdown",
   "id": "4df76026",
   "metadata": {},
   "source": [
    "# keyword and positonal\n"
   ]
  },
  {
   "cell_type": "code",
   "execution_count": null,
   "id": "1c4e69d7",
   "metadata": {},
   "outputs": [],
   "source": [
    "list_compare(list_a = super_num_list,list_b = num_list)"
   ]
  },
  {
   "cell_type": "markdown",
   "id": "8d1e716f",
   "metadata": {},
   "source": [
    "# DEFAULT VALS\n"
   ]
  },
  {
   "cell_type": "code",
   "execution_count": null,
   "id": "7e29f866",
   "metadata": {},
   "outputs": [],
   "source": []
  },
  {
   "cell_type": "code",
   "execution_count": null,
   "id": "3e9641e0",
   "metadata": {},
   "outputs": [],
   "source": [
    "#inches to centimeters\n",
    "def converter ( meas,metric=True):\n",
    "    if metric:\n",
    "        num_inches = meas/2.54\n",
    "        return num_inches\n",
    "    else:\n",
    "        num_cms = meas * 2.54\n",
    "        \n",
    "        return num_cms\n",
    "    \n",
    "    "
   ]
  },
  {
   "cell_type": "markdown",
   "id": "7d1467af",
   "metadata": {},
   "source": [
    "# scope"
   ]
  },
  {
   "cell_type": "code",
   "execution_count": null,
   "id": "1442c445",
   "metadata": {},
   "outputs": [],
   "source": [
    "def min_finder(my_list):\n",
    "    return min(num_ls)"
   ]
  },
  {
   "cell_type": "code",
   "execution_count": 19,
   "id": "02138282",
   "metadata": {},
   "outputs": [],
   "source": [
    "dummy_list = [2,2,2,4,7]\n"
   ]
  },
  {
   "cell_type": "code",
   "execution_count": 22,
   "id": "816f7286",
   "metadata": {},
   "outputs": [
    {
     "ename": "NameError",
     "evalue": "name 'min_finder' is not defined",
     "output_type": "error",
     "traceback": [
      "\u001b[0;31m---------------------------------------------------------------------------\u001b[0m",
      "\u001b[0;31mNameError\u001b[0m                                 Traceback (most recent call last)",
      "\u001b[0;32m/var/folders/d0/5dr5q0n145vcn3_m9dxy1xq80000gn/T/ipykernel_47262/4171628951.py\u001b[0m in \u001b[0;36m<module>\u001b[0;34m\u001b[0m\n\u001b[0;32m----> 1\u001b[0;31m \u001b[0mmin_finder\u001b[0m\u001b[0;34m(\u001b[0m\u001b[0mdummy_list\u001b[0m\u001b[0;34m)\u001b[0m\u001b[0;34m\u001b[0m\u001b[0;34m\u001b[0m\u001b[0m\n\u001b[0m",
      "\u001b[0;31mNameError\u001b[0m: name 'min_finder' is not defined"
     ]
    }
   ],
   "source": [
    "min_finder(dummy_list)"
   ]
  },
  {
   "cell_type": "code",
   "execution_count": null,
   "id": "a2693a0c",
   "metadata": {},
   "outputs": [],
   "source": []
  }
 ],
 "metadata": {
  "kernelspec": {
   "display_name": "Python 3 (ipykernel)",
   "language": "python",
   "name": "python3"
  },
  "language_info": {
   "codemirror_mode": {
    "name": "ipython",
    "version": 3
   },
   "file_extension": ".py",
   "mimetype": "text/x-python",
   "name": "python",
   "nbconvert_exporter": "python",
   "pygments_lexer": "ipython3",
   "version": "3.9.13"
  }
 },
 "nbformat": 4,
 "nbformat_minor": 5
}
