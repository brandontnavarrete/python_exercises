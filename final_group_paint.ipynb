{
 "cells": [
  {
   "cell_type": "code",
   "execution_count": 2,
   "id": "66b70582",
   "metadata": {},
   "outputs": [
    {
     "name": "stdout",
     "output_type": "stream",
     "text": [
      "length24\n",
      "width12\n",
      "height5\n",
      "paint grade: standard\n",
      "coats: 2\n",
      "351.0 sqft 1 buckets $ 85.98 32.609 sqm\n"
     ]
    }
   ],
   "source": [
    "import math\n",
    "stdprice = 42.99\n",
    "'''standard paint price'''\n",
    "premprice = 55.99\n",
    "'''premuim paint price'''\n",
    "proprice = 74.99\n",
    "'''professional paint price'''\n",
    "\n",
    "stdft = 400\n",
    "'''sqft that one can of standard paint will cover'''\n",
    "premft = 500\n",
    "'''sqft that one can of premium paint will cover'''\n",
    "proft = 600\n",
    "'''sqft that one can of professional paint will cover'''\n",
    "\n",
    "l = input('length')\n",
    "w = input('width')\n",
    "h = input('height')\n",
    "pg = input('paint grade: ')\n",
    "coats = input('coats: ')\n",
    "l = float(l)\n",
    "w = float(w)\n",
    "h = float(h)\n",
    "coats = int(coats)\n",
    "door = 9\n",
    "\n",
    "def area(length, width, height, door):\n",
    "    final_area = length * height * 2 + width * height * 2 - door\n",
    "    return final_area\n",
    "\n",
    "def buckets(area, sqft):\n",
    "    final_buckets = math.ceil(area(l, w, h, door) / sqft)\n",
    "    return final_buckets\n",
    "\n",
    "def cost(area, sqft, price, coats):\n",
    "    final_cost = math.ceil(area(l, w, h, door) / sqft) * price * coats\n",
    "    return round(final_cost, 2)\n",
    "\n",
    "def meter(area):\n",
    "    total_meter = area(l, w, h, door) / 10.7639\n",
    "    return round(total_meter, 3)\n",
    "\n",
    "if pg == 'standard':\n",
    "    print(area(l, w, h, door), 'sqft', buckets(area, stdft), 'buckets', \n",
    "          '$',cost(area, stdft, stdprice, coats), meter(area), 'sqm')\n",
    "elif pg == 'premium':\n",
    "    print(area(l, w, h, door), 'sqft', buckets(area, premft), 'buckets',\n",
    "          '$',cost(area, premft, premprice, coats), meter(area), 'sqm')\n",
    "elif pg == 'professional':\n",
    "    print(area(l, w, h, door), 'sqft', buckets(area, proft), 'buckets',\n",
    "          '$', cost(area, proft, proprice, coats), meter(area), 'sqm')\n",
    "else:\n",
    "    print('You have entered an incorrect grade of paint!')\n",
    "        "
   ]
  },
  {
   "cell_type": "code",
   "execution_count": null,
   "id": "253ce648",
   "metadata": {},
   "outputs": [],
   "source": []
  }
 ],
 "metadata": {
  "kernelspec": {
   "display_name": "Python 3.10.5 64-bit",
   "language": "python",
   "name": "python3"
  },
  "language_info": {
   "codemirror_mode": {
    "name": "ipython",
    "version": 3
   },
   "file_extension": ".py",
   "mimetype": "text/x-python",
   "name": "python",
   "nbconvert_exporter": "python",
   "pygments_lexer": "ipython3",
   "version": "3.10.5"
  },
  "vscode": {
   "interpreter": {
    "hash": "aee8b7b246df8f9039afb4144a1f6fd8d2ca17a180786b69acc140d282b71a49"
   }
  }
 },
 "nbformat": 4,
 "nbformat_minor": 5
}
