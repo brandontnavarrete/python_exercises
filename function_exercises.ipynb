{
 "cells": [
  {
   "cell_type": "code",
   "execution_count": 1,
   "id": "a8151a71",
   "metadata": {},
   "outputs": [],
   "source": [
    "import re\n"
   ]
  },
  {
   "cell_type": "code",
   "execution_count": 120,
   "id": "5f5a14d5",
   "metadata": {},
   "outputs": [],
   "source": [
    "def is_two(x):\n",
    "    #testing to see if x arg is equivalent to 2 or two\n",
    "    if x == 2 or x == \"2\":\n",
    "         result = True\n",
    "         #send back the answer\n",
    "         return result\n",
    "    else:\n",
    "        return False"
   ]
  },
  {
   "cell_type": "code",
   "execution_count": null,
   "id": "22b61ad8",
   "metadata": {},
   "outputs": [],
   "source": []
  },
  {
   "cell_type": "code",
   "execution_count": 121,
   "id": "628dd531",
   "metadata": {},
   "outputs": [
    {
     "data": {
      "text/plain": [
       "True"
      ]
     },
     "execution_count": 121,
     "metadata": {},
     "output_type": "execute_result"
    }
   ],
   "source": [
    "is_two(2)\n"
   ]
  },
  {
   "cell_type": "code",
   "execution_count": 122,
   "id": "2ca37e3e",
   "metadata": {},
   "outputs": [
    {
     "data": {
      "text/plain": [
       "True"
      ]
     },
     "execution_count": 122,
     "metadata": {},
     "output_type": "execute_result"
    }
   ],
   "source": [
    "is_two(\"2\")"
   ]
  },
  {
   "cell_type": "code",
   "execution_count": 119,
   "id": "3568d18e",
   "metadata": {},
   "outputs": [
    {
     "data": {
      "text/plain": [
       "False"
      ]
     },
     "execution_count": 119,
     "metadata": {},
     "output_type": "execute_result"
    }
   ],
   "source": [
    "is_two(3)"
   ]
  },
  {
   "cell_type": "markdown",
   "id": "b9f20e45",
   "metadata": {},
   "source": [
    "# 2"
   ]
  },
  {
   "cell_type": "code",
   "execution_count": 14,
   "id": "29d681a1",
   "metadata": {},
   "outputs": [],
   "source": [
    "def is_vowel(x):\n",
    "    #lower case to avoid mistakes\n",
    "    x = x.lower()\n",
    "    # checking to see = any vowerl\n",
    "    if x == 'a' or x == 'e' or x == 'i' or x =='o' or x == 'u':\n",
    "        result = True\n",
    "        return result\n",
    "    else:\n",
    "        \n",
    "        result = False\n",
    "        return result\n"
   ]
  },
  {
   "cell_type": "code",
   "execution_count": null,
   "id": "4d01b5d6",
   "metadata": {},
   "outputs": [],
   "source": [
    "#return len(string) == 1 and string.lower() in \"aeiou\" "
   ]
  },
  {
   "cell_type": "code",
   "execution_count": 16,
   "id": "c6bf9d13",
   "metadata": {},
   "outputs": [
    {
     "data": {
      "text/plain": [
       "True"
      ]
     },
     "execution_count": 16,
     "metadata": {},
     "output_type": "execute_result"
    }
   ],
   "source": [
    "is_vowel('a')\n",
    "\n"
   ]
  },
  {
   "cell_type": "code",
   "execution_count": 17,
   "id": "f7062480",
   "metadata": {},
   "outputs": [
    {
     "data": {
      "text/plain": [
       "False"
      ]
     },
     "execution_count": 17,
     "metadata": {},
     "output_type": "execute_result"
    }
   ],
   "source": [
    "is_vowel('b')\n"
   ]
  },
  {
   "cell_type": "code",
   "execution_count": 18,
   "id": "303d2a9b",
   "metadata": {},
   "outputs": [
    {
     "data": {
      "text/plain": [
       "True"
      ]
     },
     "execution_count": 18,
     "metadata": {},
     "output_type": "execute_result"
    }
   ],
   "source": [
    "is_vowel('e')\n"
   ]
  },
  {
   "cell_type": "code",
   "execution_count": 19,
   "id": "86016127",
   "metadata": {},
   "outputs": [
    {
     "data": {
      "text/plain": [
       "False"
      ]
     },
     "execution_count": 19,
     "metadata": {},
     "output_type": "execute_result"
    }
   ],
   "source": [
    "is_vowel('z')\n"
   ]
  },
  {
   "cell_type": "markdown",
   "id": "83545e53",
   "metadata": {},
   "source": [
    "# 3\n"
   ]
  },
  {
   "cell_type": "code",
   "execution_count": 48,
   "id": "edf406c6",
   "metadata": {},
   "outputs": [],
   "source": [
    "def is_constant(x):\n",
    "    #lower case to avoid mistakes\n",
    "    x = x.lower()\n",
    "    # checking to see = any vowerl\n",
    "    if x == 'a' or x == 'e' or x == 'i' or x =='o' or x == 'u':\n",
    "        result = False\n",
    "        return result\n",
    "    else:\n",
    "        \n",
    "        result = True\n",
    "        return result\n"
   ]
  },
  {
   "cell_type": "code",
   "execution_count": null,
   "id": "ca602daa",
   "metadata": {},
   "outputs": [],
   "source": [
    "#return len(string) == 1 and not is_vowel(string) and string.isalpha()"
   ]
  },
  {
   "cell_type": "code",
   "execution_count": 49,
   "id": "6b10b22c",
   "metadata": {},
   "outputs": [
    {
     "data": {
      "text/plain": [
       "False"
      ]
     },
     "execution_count": 49,
     "metadata": {},
     "output_type": "execute_result"
    }
   ],
   "source": [
    "is_constant('e')"
   ]
  },
  {
   "cell_type": "code",
   "execution_count": 51,
   "id": "673bbaaf",
   "metadata": {},
   "outputs": [
    {
     "data": {
      "text/plain": [
       "False"
      ]
     },
     "execution_count": 51,
     "metadata": {},
     "output_type": "execute_result"
    }
   ],
   "source": [
    "is_constant('a')"
   ]
  },
  {
   "cell_type": "code",
   "execution_count": 52,
   "id": "82f21195",
   "metadata": {},
   "outputs": [
    {
     "data": {
      "text/plain": [
       "True"
      ]
     },
     "execution_count": 52,
     "metadata": {},
     "output_type": "execute_result"
    }
   ],
   "source": [
    "is_constant('b')"
   ]
  },
  {
   "cell_type": "markdown",
   "id": "813364ad",
   "metadata": {},
   "source": [
    "# 4\n"
   ]
  },
  {
   "cell_type": "code",
   "execution_count": 75,
   "id": "b02f8c10",
   "metadata": {},
   "outputs": [],
   "source": [
    "def is_word(char):\n",
    "    # accepts string and if string index 0 is not a vowel, capitalize it\n",
    "    if char[0] == 'a' or char[0] == 'e' or char[0] == 'i' or char[0] =='o' or char[0] == 'u':\n",
    "        return char\n",
    "    else:\n",
    "        up_char = char.capitalize()\n",
    "        return up_char\n"
   ]
  },
  {
   "cell_type": "code",
   "execution_count": 127,
   "id": "480bed6d",
   "metadata": {},
   "outputs": [],
   "source": [
    "def is_wordz(char):\n",
    "    # accepts string and if string index 0 is not a vowel, capitalize it\n",
    "    if char[0] in 'aeiou':\n",
    "        return char\n",
    "    else:\n",
    "        up_char = char.capitalize()\n",
    "        return up_char\n"
   ]
  },
  {
   "cell_type": "code",
   "execution_count": 129,
   "id": "9711d932",
   "metadata": {},
   "outputs": [
    {
     "data": {
      "text/plain": [
       "'Hi'"
      ]
     },
     "execution_count": 129,
     "metadata": {},
     "output_type": "execute_result"
    }
   ],
   "source": [
    "is_wordz(\"hi\")"
   ]
  },
  {
   "cell_type": "code",
   "execution_count": 130,
   "id": "d8071acc",
   "metadata": {},
   "outputs": [
    {
     "data": {
      "text/plain": [
       "'apple'"
      ]
     },
     "execution_count": 130,
     "metadata": {},
     "output_type": "execute_result"
    }
   ],
   "source": [
    "is_wordz(\"apple\")"
   ]
  },
  {
   "cell_type": "code",
   "execution_count": 128,
   "id": "e1ea336c",
   "metadata": {},
   "outputs": [
    {
     "data": {
      "text/plain": [
       "'Doge'"
      ]
     },
     "execution_count": 128,
     "metadata": {},
     "output_type": "execute_result"
    }
   ],
   "source": [
    "is_wordz('doge')"
   ]
  },
  {
   "cell_type": "markdown",
   "id": "10c9c0b9",
   "metadata": {},
   "source": [
    "# 5\n",
    "\n"
   ]
  },
  {
   "cell_type": "code",
   "execution_count": 78,
   "id": "d06e1790",
   "metadata": {},
   "outputs": [],
   "source": [
    "def calculate_tip(per,check):\n",
    "    #two arguments\n",
    "    #take the percent and divide it by 100 for deciaml\n",
    "    grat = per/100\n",
    "    #how much the tip os\n",
    "    total_tip = ( grat * check)\n",
    "\n",
    "    return total_tip"
   ]
  },
  {
   "cell_type": "code",
   "execution_count": 79,
   "id": "8acd34bc",
   "metadata": {},
   "outputs": [
    {
     "data": {
      "text/plain": [
       "1.3"
      ]
     },
     "execution_count": 79,
     "metadata": {},
     "output_type": "execute_result"
    }
   ],
   "source": [
    "calculate_tip(5,26)"
   ]
  },
  {
   "cell_type": "markdown",
   "id": "14121d01",
   "metadata": {},
   "source": [
    "def cal_tip(x,y)\n",
    "\n",
    "total_bill = int(input('bill'))\n",
    "tip_per =int(input('tip percent))\n",
    "leave_tip = total_bill/tip_perc\n",
    "\n",
    "print(f'you should leave {leave_tip} as the tip')\n",
    "\n",
    "\n"
   ]
  },
  {
   "cell_type": "markdown",
   "id": "b2b18931",
   "metadata": {},
   "source": [
    "# 6"
   ]
  },
  {
   "cell_type": "code",
   "execution_count": 88,
   "id": "f7a28f56",
   "metadata": {},
   "outputs": [],
   "source": [
    "def apply_discount(op,dp):\n",
    "    #discount price * original price\n",
    "    dp_per = dp/100\n",
    "    #original price - subtract amount for the price you will pay\n",
    "    \n",
    "    new_price = (1-dp_per)* op\n",
    "    return new_price\n",
    "\n"
   ]
  },
  {
   "cell_type": "code",
   "execution_count": 91,
   "id": "d2bbbe43",
   "metadata": {},
   "outputs": [
    {
     "data": {
      "text/plain": [
       "15.0"
      ]
     },
     "execution_count": 91,
     "metadata": {},
     "output_type": "execute_result"
    }
   ],
   "source": [
    "apply_discount(30, 50)"
   ]
  },
  {
   "cell_type": "code",
   "execution_count": 131,
   "id": "acb6135e",
   "metadata": {},
   "outputs": [
    {
     "data": {
      "text/plain": [
       "41.849999999999994"
      ]
     },
     "execution_count": 131,
     "metadata": {},
     "output_type": "execute_result"
    }
   ],
   "source": [
    "apply_discount(45,7)"
   ]
  },
  {
   "cell_type": "code",
   "execution_count": 132,
   "id": "56db7150",
   "metadata": {},
   "outputs": [
    {
     "data": {
      "text/plain": [
       "9.999999999999998"
      ]
     },
     "execution_count": 132,
     "metadata": {},
     "output_type": "execute_result"
    }
   ],
   "source": [
    "apply_discount(100,90)"
   ]
  },
  {
   "cell_type": "markdown",
   "id": "0b174b8d",
   "metadata": {},
   "source": [
    "# 7\n"
   ]
  },
  {
   "cell_type": "code",
   "execution_count": 92,
   "id": "fa5af366",
   "metadata": {},
   "outputs": [],
   "source": [
    "def handle_commas(char):\n",
    "    #remove commas\n",
    "    no_commas = char.replace(',','')\n",
    "    #cast int type to string\n",
    "    num_commas =int(no_commas)\n",
    "    \n",
    "    return num_commas\n",
    "\n"
   ]
  },
  {
   "cell_type": "code",
   "execution_count": 93,
   "id": "8ef17f47",
   "metadata": {},
   "outputs": [
    {
     "data": {
      "text/plain": [
       "70000"
      ]
     },
     "execution_count": 93,
     "metadata": {},
     "output_type": "execute_result"
    }
   ],
   "source": [
    "handle_commas(\"7,00,00\")"
   ]
  },
  {
   "cell_type": "markdown",
   "id": "ba0d3586",
   "metadata": {},
   "source": [
    "# 8\n"
   ]
  },
  {
   "cell_type": "code",
   "execution_count": 94,
   "id": "d1d3ef39",
   "metadata": {},
   "outputs": [],
   "source": [
    "def get_letter_grade(x):\n",
    "    #if, elif to categorically find grade letter\n",
    "    if x == 100 or x > 89:\n",
    "        return \"A\"\n",
    "    elif x == 89 or x > 79:\n",
    "        return \"B\"\n",
    "    elif x == 79 or x  > 69:\n",
    "        return \"C\"\n",
    "    elif x == 69 or x > 59:\n",
    "        return \"D\" \n",
    "    else:\n",
    "        return \"F\" \n",
    "    "
   ]
  },
  {
   "cell_type": "code",
   "execution_count": 95,
   "id": "b0c672ad",
   "metadata": {},
   "outputs": [
    {
     "data": {
      "text/plain": [
       "'B'"
      ]
     },
     "execution_count": 95,
     "metadata": {},
     "output_type": "execute_result"
    }
   ],
   "source": [
    "get_letter_grade(89)"
   ]
  },
  {
   "cell_type": "code",
   "execution_count": 97,
   "id": "3c95415d",
   "metadata": {},
   "outputs": [
    {
     "data": {
      "text/plain": [
       "'C'"
      ]
     },
     "execution_count": 97,
     "metadata": {},
     "output_type": "execute_result"
    }
   ],
   "source": [
    "get_letter_grade(70)"
   ]
  },
  {
   "cell_type": "markdown",
   "id": "2ef616a3",
   "metadata": {},
   "source": [
    "# 9"
   ]
  },
  {
   "cell_type": "code",
   "execution_count": 98,
   "id": "dbd29f8e",
   "metadata": {},
   "outputs": [
    {
     "data": {
      "text/plain": [
       "' hwdy nv,MY NMS NV '"
      ]
     },
     "execution_count": 98,
     "metadata": {},
     "output_type": "execute_result"
    }
   ],
   "source": [
    "  def remove_vowels(char):\n",
    "    #using re.sub to take list, apply to char as well as ingore casing\n",
    "    result = re.sub(r'[AEIOU]', '', char, flags=re.IGNORECASE)\n",
    "    return result\n",
    "\n",
    "remove_vowels(' howdy nav,MYE ENAMEIOS NAVU ')\n",
    "    "
   ]
  },
  {
   "cell_type": "code",
   "execution_count": 99,
   "id": "589ca985",
   "metadata": {},
   "outputs": [
    {
     "data": {
      "text/plain": [
       "'my nm s bcdfghjklmnpqrstvwxyz'"
      ]
     },
     "execution_count": 99,
     "metadata": {},
     "output_type": "execute_result"
    }
   ],
   "source": [
    "remove_vowels(\"my name is abcdefghijklmnopqrstuvwxyz\")"
   ]
  },
  {
   "cell_type": "markdown",
   "id": "d3a83701",
   "metadata": {},
   "source": [
    "# 10\n"
   ]
  },
  {
   "cell_type": "code",
   "execution_count": 142,
   "id": "d6299630",
   "metadata": {},
   "outputs": [],
   "source": [
    "def normalize_name(char):\n",
    "    string = char.replace(\"$\",\"\")\n",
    "    string = string.replace(\"%\",\"\")\n",
    "    string = string.replace(\"!\",\"\")\n",
    "    string = string.replace(\"?\",\"\")\n",
    "    \n",
    "    #strip trailing white space and leading\n",
    "    no_white = string.strip()\n",
    "    #lower case all\n",
    "    low_char = no_white.lower()\n",
    "    #replace spaces with underscore\n",
    "    space_char = low_char.replace(' ','_')\n",
    "    \n",
    "    return space_char\n",
    "    "
   ]
  },
  {
   "cell_type": "code",
   "execution_count": 143,
   "id": "c0de90ba",
   "metadata": {},
   "outputs": [
    {
     "data": {
      "text/plain": [
       "'my_naem_as_isf_j_ff'"
      ]
     },
     "execution_count": 143,
     "metadata": {},
     "output_type": "execute_result"
    }
   ],
   "source": [
    "normalize_name(\" my? naem as$ i!sf j ff \")"
   ]
  },
  {
   "cell_type": "markdown",
   "id": "07d5f579",
   "metadata": {},
   "source": [
    "# 11\n"
   ]
  },
  {
   "cell_type": "code",
   "execution_count": 112,
   "id": "f1401d66",
   "metadata": {},
   "outputs": [],
   "source": [
    "def cumulative_sum(list):\n",
    "    #creat new list\n",
    "    new_ls = []\n",
    "    #take len of input list and store in variable\n",
    "    length= len(list)\n",
    "    #apply list attributes for the range of length + 1, sum, then apply to new list.\n",
    "    new_ls = [sum(list[0:x:1]) for x in range(1,length+1)]\n",
    "    \n",
    "    return new_ls\n",
    "\n",
    "    "
   ]
  },
  {
   "cell_type": "code",
   "execution_count": 113,
   "id": "f8c073ed",
   "metadata": {},
   "outputs": [
    {
     "data": {
      "text/plain": [
       "[1, 2, 3]"
      ]
     },
     "execution_count": 113,
     "metadata": {},
     "output_type": "execute_result"
    }
   ],
   "source": [
    "cumulative_sum([1, 1, 1])"
   ]
  },
  {
   "cell_type": "code",
   "execution_count": 114,
   "id": "3632b398",
   "metadata": {},
   "outputs": [
    {
     "data": {
      "text/plain": [
       "[1, 3, 6, 10]"
      ]
     },
     "execution_count": 114,
     "metadata": {},
     "output_type": "execute_result"
    }
   ],
   "source": [
    "cumulative_sum([1, 2, 3, 4])"
   ]
  },
  {
   "cell_type": "code",
   "execution_count": null,
   "id": "568ff818",
   "metadata": {},
   "outputs": [],
   "source": []
  }
 ],
 "metadata": {
  "kernelspec": {
   "display_name": "Python 3 (ipykernel)",
   "language": "python",
   "name": "python3"
  },
  "language_info": {
   "codemirror_mode": {
    "name": "ipython",
    "version": 3
   },
   "file_extension": ".py",
   "mimetype": "text/x-python",
   "name": "python",
   "nbconvert_exporter": "python",
   "pygments_lexer": "ipython3",
   "version": "3.9.13"
  }
 },
 "nbformat": 4,
 "nbformat_minor": 5
}
