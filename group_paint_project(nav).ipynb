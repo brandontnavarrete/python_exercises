{
 "cells": [
  {
   "cell_type": "code",
   "execution_count": 30,
   "id": "7a4c9d08",
   "metadata": {},
   "outputs": [],
   "source": [
    "def room_area(l, w, h):\n",
    "    #longest walls area\n",
    "    length = (l * h) * 2\n",
    "    print(length)\n",
    "    #widest walls area\n",
    "    wide = (w * h) * 2\n",
    "    print(wide)\n",
    "    \n",
    "    #sqft of average door\n",
    "    door_surface = 9 \n",
    "    \n",
    "    #formula for total surface area that needs paints in sqft\n",
    "    tot_area = (length + wide) - 9\n",
    "    print (tot_area)\n",
    "    return tot_area\n",
    "   "
   ]
  },
  {
   "cell_type": "code",
   "execution_count": 78,
   "id": "66e56421",
   "metadata": {},
   "outputs": [],
   "source": [
    "def standard(x):\n",
    "        amnt_cans = (x / 400)\n",
    "        amnt_price = amnt_cans * 42.99\n",
    "        \n",
    "        print(amnt_cans,amnt_price)\n",
    "        return amnt_cans,amnt_price\n",
    "     "
   ]
  },
  {
   "cell_type": "code",
   "execution_count": 75,
   "id": "9aaa87df",
   "metadata": {},
   "outputs": [],
   "source": [
    "def premium(x):\n",
    "        amnt_cans = (x / 500)\n",
    "        amnt_price = amnt_cans * 55.99\n",
    "        \n",
    "        print(amnt_cans,amnt_price)\n",
    "        return amnt_cans,amnt_price\n",
    "     "
   ]
  },
  {
   "cell_type": "code",
   "execution_count": 76,
   "id": "2b4e4e9d",
   "metadata": {},
   "outputs": [],
   "source": [
    "def professional(x):\n",
    "        amnt_cans = (x / 600)\n",
    "        amnt_price = amnt_cans * 74.99\n",
    "        \n",
    "        print(amnt_cans,amnt_price)\n",
    "        return amnt_cans,amnt_price\n",
    "     "
   ]
  },
  {
   "cell_type": "code",
   "execution_count": 82,
   "id": "0e97472f",
   "metadata": {},
   "outputs": [
    {
     "name": "stdout",
     "output_type": "stream",
     "text": [
      "Insert longest wall length 24\n",
      "Insert widest wall length 12\n",
      "What is the height of the ceilings? 8\n",
      "567\n",
      "1. standard. 2.premium. 3.professional.3\n",
      "The amount of cans you need; The total price is:\n",
      "0.945 70.86554999999998\n"
     ]
    }
   ],
   "source": [
    "import math\n",
    "\n",
    "stdprice = 42.99\n",
    "premprice = 55.99\n",
    "proprice = 74.99\n",
    "\n",
    "stdft = 400\n",
    "premft = 500\n",
    "proft =600\n",
    "\n",
    "#user input\n",
    "\n",
    "l = int(input(\"Insert longest wall length \"))\n",
    "\n",
    "w = int(input('Insert widest wall length '))\n",
    "\n",
    "h = int(input('What is the height of the ceilings? '))\n",
    "\n",
    "#once we get the information begin our function\n",
    "#call new var # call function with our inputs\n",
    "tot_area = room_area(l,w,h)\n",
    "\n",
    "#ask the user what grade they would like to use.\n",
    "pg = int(input('1. standard. 2.premium. 3.professional.'))\n",
    "\n",
    "if pg == 1:\n",
    "    print('The amount of cans you need; The total price is:')\n",
    "    cans, price = standard(tot_area)\n",
    "    \n",
    "elif pg == 2:\n",
    "    print('The amount of cans you need; The total price is:')\n",
    "    cans,price = premium(tot_area)\n",
    "\n",
    "elif pg == 3:\n",
    "    print('The amount of cans you need; The total price is:')\n",
    "    cans,price = professional(tot_area)\n",
    "   \n",
    "else:\n",
    "    print(\"Incorrect input detected\")\n",
    "\n"
   ]
  },
  {
   "cell_type": "code",
   "execution_count": null,
   "id": "b43621f3",
   "metadata": {},
   "outputs": [],
   "source": []
  },
  {
   "cell_type": "code",
   "execution_count": null,
   "id": "b15ca6e6",
   "metadata": {},
   "outputs": [],
   "source": []
  },
  {
   "cell_type": "code",
   "execution_count": null,
   "id": "7c5dc0c1",
   "metadata": {},
   "outputs": [],
   "source": []
  }
 ],
 "metadata": {
  "kernelspec": {
   "display_name": "Python 3 (ipykernel)",
   "language": "python",
   "name": "python3"
  },
  "language_info": {
   "codemirror_mode": {
    "name": "ipython",
    "version": 3
   },
   "file_extension": ".py",
   "mimetype": "text/x-python",
   "name": "python",
   "nbconvert_exporter": "python",
   "pygments_lexer": "ipython3",
   "version": "3.9.13"
  }
 },
 "nbformat": 4,
 "nbformat_minor": 5
}
